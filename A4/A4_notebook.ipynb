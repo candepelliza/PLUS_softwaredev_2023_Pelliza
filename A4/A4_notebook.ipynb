{
 "cells": [
  {
   "attachments": {},
   "cell_type": "markdown",
   "metadata": {},
   "source": [
    "# Geocoding and getting walking isochrones"
   ]
  },
  {
   "attachments": {},
   "cell_type": "markdown",
   "metadata": {},
   "source": [
    "This notebook presents a workflow for obtaining addresses and walking isochrones for street segments.\n",
    "\n",
    "We define a segment as the section of the street between two intersections."
   ]
  },
  {
   "attachments": {},
   "cell_type": "markdown",
   "metadata": {},
   "source": [
    "##### 1. Import libraries"
   ]
  },
  {
   "cell_type": "code",
   "execution_count": 8,
   "metadata": {},
   "outputs": [],
   "source": [
    "from geopy.geocoders import Nominatim\n",
    "import geopandas as gpd\n",
    "import pandas as pd\n",
    "from A4_script import *"
   ]
  },
  {
   "attachments": {},
   "cell_type": "markdown",
   "metadata": {},
   "source": [
    "##### 2. Import data"
   ]
  },
  {
   "attachments": {},
   "cell_type": "markdown",
   "metadata": {},
   "source": [
    "The workflow starts from a dataset containing a list of segments, with an id, and the latitude and longitude of the two intersections of each segment"
   ]
  },
  {
   "cell_type": "code",
   "execution_count": 9,
   "metadata": {},
   "outputs": [],
   "source": [
    "data = pd.read_excel(\"Data\\intersections_dataset.xlsx\")"
   ]
  },
  {
   "cell_type": "code",
   "execution_count": 10,
   "metadata": {},
   "outputs": [
    {
     "data": {
      "text/html": [
       "<div>\n",
       "<style scoped>\n",
       "    .dataframe tbody tr th:only-of-type {\n",
       "        vertical-align: middle;\n",
       "    }\n",
       "\n",
       "    .dataframe tbody tr th {\n",
       "        vertical-align: top;\n",
       "    }\n",
       "\n",
       "    .dataframe thead th {\n",
       "        text-align: right;\n",
       "    }\n",
       "</style>\n",
       "<table border=\"1\" class=\"dataframe\">\n",
       "  <thead>\n",
       "    <tr style=\"text-align: right;\">\n",
       "      <th></th>\n",
       "      <th>sgmntid</th>\n",
       "      <th>intrsc_1_lat</th>\n",
       "      <th>intrsc_1_long</th>\n",
       "      <th>intrsc_2_lat</th>\n",
       "      <th>intrsc_2_long</th>\n",
       "    </tr>\n",
       "  </thead>\n",
       "  <tbody>\n",
       "    <tr>\n",
       "      <th>0</th>\n",
       "      <td>1</td>\n",
       "      <td>47.807070</td>\n",
       "      <td>13.054107</td>\n",
       "      <td>47.807631</td>\n",
       "      <td>13.053675</td>\n",
       "    </tr>\n",
       "    <tr>\n",
       "      <th>1</th>\n",
       "      <td>2</td>\n",
       "      <td>47.808273</td>\n",
       "      <td>13.056615</td>\n",
       "      <td>47.808949</td>\n",
       "      <td>13.056425</td>\n",
       "    </tr>\n",
       "    <tr>\n",
       "      <th>2</th>\n",
       "      <td>3</td>\n",
       "      <td>47.811425</td>\n",
       "      <td>13.053483</td>\n",
       "      <td>47.811425</td>\n",
       "      <td>13.054470</td>\n",
       "    </tr>\n",
       "  </tbody>\n",
       "</table>\n",
       "</div>"
      ],
      "text/plain": [
       "   sgmntid  intrsc_1_lat  intrsc_1_long  intrsc_2_lat  intrsc_2_long\n",
       "0        1     47.807070      13.054107     47.807631      13.053675\n",
       "1        2     47.808273      13.056615     47.808949      13.056425\n",
       "2        3     47.811425      13.053483     47.811425      13.054470"
      ]
     },
     "execution_count": 10,
     "metadata": {},
     "output_type": "execute_result"
    }
   ],
   "source": [
    "data.head()"
   ]
  },
  {
   "attachments": {},
   "cell_type": "markdown",
   "metadata": {},
   "source": [
    "##### 3. Get addresses\n",
    "\n",
    "Taking the latitude and logitude coordinates, this function performs a reverse geolocation, obatining the address for each of both street intersections"
   ]
  },
  {
   "cell_type": "code",
   "execution_count": 11,
   "metadata": {},
   "outputs": [
    {
     "data": {
      "text/html": [
       "<div>\n",
       "<style scoped>\n",
       "    .dataframe tbody tr th:only-of-type {\n",
       "        vertical-align: middle;\n",
       "    }\n",
       "\n",
       "    .dataframe tbody tr th {\n",
       "        vertical-align: top;\n",
       "    }\n",
       "\n",
       "    .dataframe thead th {\n",
       "        text-align: right;\n",
       "    }\n",
       "</style>\n",
       "<table border=\"1\" class=\"dataframe\">\n",
       "  <thead>\n",
       "    <tr style=\"text-align: right;\">\n",
       "      <th></th>\n",
       "      <th>sgmntid</th>\n",
       "      <th>intrsc_1_lat</th>\n",
       "      <th>intrsc_1_long</th>\n",
       "      <th>intrsc_2_lat</th>\n",
       "      <th>intrsc_2_long</th>\n",
       "      <th>address1</th>\n",
       "      <th>address2</th>\n",
       "    </tr>\n",
       "  </thead>\n",
       "  <tbody>\n",
       "    <tr>\n",
       "      <th>0</th>\n",
       "      <td>1</td>\n",
       "      <td>47.807070</td>\n",
       "      <td>13.054107</td>\n",
       "      <td>47.807631</td>\n",
       "      <td>13.053675</td>\n",
       "      <td>3, Grillparzerstraße, Schallmoos, Salzburg, 50...</td>\n",
       "      <td>14, Grillparzerstraße, Schallmoos, Salzburg, 5...</td>\n",
       "    </tr>\n",
       "    <tr>\n",
       "      <th>1</th>\n",
       "      <td>2</td>\n",
       "      <td>47.808273</td>\n",
       "      <td>13.056615</td>\n",
       "      <td>47.808949</td>\n",
       "      <td>13.056425</td>\n",
       "      <td>Ausbildungszentrum, 32, Sterneckstraße, Schall...</td>\n",
       "      <td>my Indigo Mooncity, 28, Sterneckstraße, Schall...</td>\n",
       "    </tr>\n",
       "    <tr>\n",
       "      <th>2</th>\n",
       "      <td>3</td>\n",
       "      <td>47.811425</td>\n",
       "      <td>13.053483</td>\n",
       "      <td>47.811425</td>\n",
       "      <td>13.054470</td>\n",
       "      <td>4, Merianstraße, Schallmoos, Salzburg, 5020, Ö...</td>\n",
       "      <td>1, Merianstraße, Schallmoos, Salzburg, 5020, Ö...</td>\n",
       "    </tr>\n",
       "  </tbody>\n",
       "</table>\n",
       "</div>"
      ],
      "text/plain": [
       "   sgmntid  intrsc_1_lat  intrsc_1_long  intrsc_2_lat  intrsc_2_long   \n",
       "0        1     47.807070      13.054107     47.807631      13.053675  \\\n",
       "1        2     47.808273      13.056615     47.808949      13.056425   \n",
       "2        3     47.811425      13.053483     47.811425      13.054470   \n",
       "\n",
       "                                            address1   \n",
       "0  3, Grillparzerstraße, Schallmoos, Salzburg, 50...  \\\n",
       "1  Ausbildungszentrum, 32, Sterneckstraße, Schall...   \n",
       "2  4, Merianstraße, Schallmoos, Salzburg, 5020, Ö...   \n",
       "\n",
       "                                            address2  \n",
       "0  14, Grillparzerstraße, Schallmoos, Salzburg, 5...  \n",
       "1  my Indigo Mooncity, 28, Sterneckstraße, Schall...  \n",
       "2  1, Merianstraße, Schallmoos, Salzburg, 5020, Ö...  "
      ]
     },
     "execution_count": 11,
     "metadata": {},
     "output_type": "execute_result"
    }
   ],
   "source": [
    "data_adressses = get_address(data)\n",
    "data_adressses.head()"
   ]
  },
  {
   "attachments": {},
   "cell_type": "markdown",
   "metadata": {},
   "source": [
    "##### 4. Get intersections isochrones\n",
    "\n",
    "Using the OSMNX library, this function gets the walking \"isochrones\" for a given distance for both intersections of each segment.\n",
    "\n",
    "The isochrone is a polygon representing all the area reachable walking the given distance from the defined starting point"
   ]
  },
  {
   "cell_type": "code",
   "execution_count": 12,
   "metadata": {},
   "outputs": [
    {
     "data": {
      "text/html": [
       "<div>\n",
       "<style scoped>\n",
       "    .dataframe tbody tr th:only-of-type {\n",
       "        vertical-align: middle;\n",
       "    }\n",
       "\n",
       "    .dataframe tbody tr th {\n",
       "        vertical-align: top;\n",
       "    }\n",
       "\n",
       "    .dataframe thead th {\n",
       "        text-align: right;\n",
       "    }\n",
       "</style>\n",
       "<table border=\"1\" class=\"dataframe\">\n",
       "  <thead>\n",
       "    <tr style=\"text-align: right;\">\n",
       "      <th></th>\n",
       "      <th>sgmntid</th>\n",
       "      <th>intrsc_1_lat</th>\n",
       "      <th>intrsc_1_long</th>\n",
       "      <th>intrsc_2_lat</th>\n",
       "      <th>intrsc_2_long</th>\n",
       "      <th>address1</th>\n",
       "      <th>address2</th>\n",
       "      <th>isochrone1</th>\n",
       "      <th>isochrone2</th>\n",
       "    </tr>\n",
       "  </thead>\n",
       "  <tbody>\n",
       "    <tr>\n",
       "      <th>0</th>\n",
       "      <td>1</td>\n",
       "      <td>47.807070</td>\n",
       "      <td>13.054107</td>\n",
       "      <td>47.807631</td>\n",
       "      <td>13.053675</td>\n",
       "      <td>3, Grillparzerstraße, Schallmoos, Salzburg, 50...</td>\n",
       "      <td>14, Grillparzerstraße, Schallmoos, Salzburg, 5...</td>\n",
       "      <td>POLYGON ((13.0477589 47.8040199, 13.0475388 47...</td>\n",
       "      <td>POLYGON ((13.0472071 47.8036049, 13.0471232 47...</td>\n",
       "    </tr>\n",
       "    <tr>\n",
       "      <th>1</th>\n",
       "      <td>2</td>\n",
       "      <td>47.808273</td>\n",
       "      <td>13.056615</td>\n",
       "      <td>47.808949</td>\n",
       "      <td>13.056425</td>\n",
       "      <td>Ausbildungszentrum, 32, Sterneckstraße, Schall...</td>\n",
       "      <td>my Indigo Mooncity, 28, Sterneckstraße, Schall...</td>\n",
       "      <td>POLYGON ((13.0501311 47.8042493, 13.0500258 47...</td>\n",
       "      <td>POLYGON ((13.0514108 47.8046443, 13.0498379 47...</td>\n",
       "    </tr>\n",
       "    <tr>\n",
       "      <th>2</th>\n",
       "      <td>3</td>\n",
       "      <td>47.811425</td>\n",
       "      <td>13.053483</td>\n",
       "      <td>47.811425</td>\n",
       "      <td>13.054470</td>\n",
       "      <td>4, Merianstraße, Schallmoos, Salzburg, 5020, Ö...</td>\n",
       "      <td>1, Merianstraße, Schallmoos, Salzburg, 5020, Ö...</td>\n",
       "      <td>POLYGON ((13.056482 47.8069817, 13.0512735 47....</td>\n",
       "      <td>POLYGON ((13.056482 47.8069817, 13.0512735 47....</td>\n",
       "    </tr>\n",
       "  </tbody>\n",
       "</table>\n",
       "</div>"
      ],
      "text/plain": [
       "   sgmntid  intrsc_1_lat  intrsc_1_long  intrsc_2_lat  intrsc_2_long   \n",
       "0        1     47.807070      13.054107     47.807631      13.053675  \\\n",
       "1        2     47.808273      13.056615     47.808949      13.056425   \n",
       "2        3     47.811425      13.053483     47.811425      13.054470   \n",
       "\n",
       "                                            address1   \n",
       "0  3, Grillparzerstraße, Schallmoos, Salzburg, 50...  \\\n",
       "1  Ausbildungszentrum, 32, Sterneckstraße, Schall...   \n",
       "2  4, Merianstraße, Schallmoos, Salzburg, 5020, Ö...   \n",
       "\n",
       "                                            address2   \n",
       "0  14, Grillparzerstraße, Schallmoos, Salzburg, 5...  \\\n",
       "1  my Indigo Mooncity, 28, Sterneckstraße, Schall...   \n",
       "2  1, Merianstraße, Schallmoos, Salzburg, 5020, Ö...   \n",
       "\n",
       "                                          isochrone1   \n",
       "0  POLYGON ((13.0477589 47.8040199, 13.0475388 47...  \\\n",
       "1  POLYGON ((13.0501311 47.8042493, 13.0500258 47...   \n",
       "2  POLYGON ((13.056482 47.8069817, 13.0512735 47....   \n",
       "\n",
       "                                          isochrone2  \n",
       "0  POLYGON ((13.0472071 47.8036049, 13.0471232 47...  \n",
       "1  POLYGON ((13.0514108 47.8046443, 13.0498379 47...  \n",
       "2  POLYGON ((13.056482 47.8069817, 13.0512735 47....  "
      ]
     },
     "execution_count": 12,
     "metadata": {},
     "output_type": "execute_result"
    }
   ],
   "source": [
    "intersection_isochrones = get_isochrones(data, 500)\n",
    "intersection_isochrones.head()"
   ]
  },
  {
   "attachments": {},
   "cell_type": "markdown",
   "metadata": {},
   "source": [
    "##### 5. Disolve Isochrones\n",
    "\n",
    "The last step consist in joining the both isochrones, for obtaining only one polygon per segment, representing all the reachable area starting from the analyzed segment"
   ]
  },
  {
   "cell_type": "code",
   "execution_count": 13,
   "metadata": {},
   "outputs": [
    {
     "data": {
      "text/html": [
       "<div>\n",
       "<style scoped>\n",
       "    .dataframe tbody tr th:only-of-type {\n",
       "        vertical-align: middle;\n",
       "    }\n",
       "\n",
       "    .dataframe tbody tr th {\n",
       "        vertical-align: top;\n",
       "    }\n",
       "\n",
       "    .dataframe thead th {\n",
       "        text-align: right;\n",
       "    }\n",
       "</style>\n",
       "<table border=\"1\" class=\"dataframe\">\n",
       "  <thead>\n",
       "    <tr style=\"text-align: right;\">\n",
       "      <th></th>\n",
       "      <th>sgmntid</th>\n",
       "      <th>address1</th>\n",
       "      <th>address2</th>\n",
       "      <th>geometry</th>\n",
       "    </tr>\n",
       "  </thead>\n",
       "  <tbody>\n",
       "    <tr>\n",
       "      <th>0</th>\n",
       "      <td>1</td>\n",
       "      <td>3, Grillparzerstraße, Schallmoos, Salzburg, 50...</td>\n",
       "      <td>14, Grillparzerstraße, Schallmoos, Salzburg, 5...</td>\n",
       "      <td>POLYGON ((13.06075 47.80831, 13.06078 47.80819...</td>\n",
       "    </tr>\n",
       "    <tr>\n",
       "      <th>1</th>\n",
       "      <td>2</td>\n",
       "      <td>Ausbildungszentrum, 32, Sterneckstraße, Schall...</td>\n",
       "      <td>my Indigo Mooncity, 28, Sterneckstraße, Schall...</td>\n",
       "      <td>POLYGON ((13.05003 47.80440, 13.04999 47.80646...</td>\n",
       "    </tr>\n",
       "    <tr>\n",
       "      <th>2</th>\n",
       "      <td>3</td>\n",
       "      <td>4, Merianstraße, Schallmoos, Salzburg, 5020, Ö...</td>\n",
       "      <td>1, Merianstraße, Schallmoos, Salzburg, 5020, Ö...</td>\n",
       "      <td>POLYGON ((13.05127 47.80700, 13.04870 47.80712...</td>\n",
       "    </tr>\n",
       "  </tbody>\n",
       "</table>\n",
       "</div>"
      ],
      "text/plain": [
       "   sgmntid                                           address1   \n",
       "0        1  3, Grillparzerstraße, Schallmoos, Salzburg, 50...  \\\n",
       "1        2  Ausbildungszentrum, 32, Sterneckstraße, Schall...   \n",
       "2        3  4, Merianstraße, Schallmoos, Salzburg, 5020, Ö...   \n",
       "\n",
       "                                            address2   \n",
       "0  14, Grillparzerstraße, Schallmoos, Salzburg, 5...  \\\n",
       "1  my Indigo Mooncity, 28, Sterneckstraße, Schall...   \n",
       "2  1, Merianstraße, Schallmoos, Salzburg, 5020, Ö...   \n",
       "\n",
       "                                            geometry  \n",
       "0  POLYGON ((13.06075 47.80831, 13.06078 47.80819...  \n",
       "1  POLYGON ((13.05003 47.80440, 13.04999 47.80646...  \n",
       "2  POLYGON ((13.05127 47.80700, 13.04870 47.80712...  "
      ]
     },
     "execution_count": 13,
     "metadata": {},
     "output_type": "execute_result"
    }
   ],
   "source": [
    "street_isochrone = polygon_disolve(intersection_isochrones)\n",
    "street_isochrone.head()\n"
   ]
  }
 ],
 "metadata": {
  "kernelspec": {
   "display_name": "ox",
   "language": "python",
   "name": "python3"
  },
  "language_info": {
   "codemirror_mode": {
    "name": "ipython",
    "version": 3
   },
   "file_extension": ".py",
   "mimetype": "text/x-python",
   "name": "python",
   "nbconvert_exporter": "python",
   "pygments_lexer": "ipython3",
   "version": "3.11.3"
  },
  "orig_nbformat": 4
 },
 "nbformat": 4,
 "nbformat_minor": 2
}
